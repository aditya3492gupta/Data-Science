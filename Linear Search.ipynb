{
 "cells": [
  {
   "cell_type": "code",
   "execution_count": 2,
   "id": "0aa24a70",
   "metadata": {},
   "outputs": [
    {
     "name": "stdout",
     "output_type": "stream",
     "text": [
      "Element found at index  3\n"
     ]
    }
   ],
   "source": [
    "def linearsearch(array,n,k):\n",
    "    for j in range(0,n):\n",
    "        if(array[j]==k):\n",
    "            return j\n",
    "    return -1\n",
    "\n",
    "array=[1,3,5,7,9]\n",
    "\n",
    "k=7\n",
    "n=len(array)\n",
    "result=linearsearch(array,n,k)\n",
    "if(result==-1):\n",
    "    print(\"Element not found\")\n",
    "else:\n",
    "    print(\"Element found at index \",result)"
   ]
  },
  {
   "cell_type": "code",
   "execution_count": null,
   "id": "3671fb3b",
   "metadata": {},
   "outputs": [],
   "source": []
  }
 ],
 "metadata": {
  "kernelspec": {
   "display_name": "Python 3 (ipykernel)",
   "language": "python",
   "name": "python3"
  },
  "language_info": {
   "codemirror_mode": {
    "name": "ipython",
    "version": 3
   },
   "file_extension": ".py",
   "mimetype": "text/x-python",
   "name": "python",
   "nbconvert_exporter": "python",
   "pygments_lexer": "ipython3",
   "version": "3.10.6"
  }
 },
 "nbformat": 4,
 "nbformat_minor": 5
}
