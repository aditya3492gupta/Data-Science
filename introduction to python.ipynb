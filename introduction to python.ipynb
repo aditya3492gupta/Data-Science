{
 "cells": [
  {
   "cell_type": "code",
   "execution_count": 5,
   "id": "810e5d1a",
   "metadata": {},
   "outputs": [],
   "source": [
    "x=1.0\n",
    "my_variable = 12"
   ]
  },
  {
   "cell_type": "code",
   "execution_count": 6,
   "id": "75131862",
   "metadata": {},
   "outputs": [
    {
     "data": {
      "text/plain": [
       "float"
      ]
     },
     "execution_count": 6,
     "metadata": {},
     "output_type": "execute_result"
    }
   ],
   "source": [
    "type(x)"
   ]
  },
  {
   "cell_type": "code",
   "execution_count": 7,
   "id": "43d034b4",
   "metadata": {},
   "outputs": [
    {
     "data": {
      "text/plain": [
       "int"
      ]
     },
     "execution_count": 7,
     "metadata": {},
     "output_type": "execute_result"
    }
   ],
   "source": [
    "type(my_variable)"
   ]
  },
  {
   "cell_type": "code",
   "execution_count": 8,
   "id": "cdb040e1",
   "metadata": {},
   "outputs": [
    {
     "data": {
      "text/plain": [
       "int"
      ]
     },
     "execution_count": 8,
     "metadata": {},
     "output_type": "execute_result"
    }
   ],
   "source": [
    "x=1\n",
    "type(x)"
   ]
  },
  {
   "cell_type": "code",
   "execution_count": 9,
   "id": "7354bf26",
   "metadata": {},
   "outputs": [
    {
     "name": "stdout",
     "output_type": "stream",
     "text": [
      "5\n",
      "2.3\n",
      "hello\n"
     ]
    }
   ],
   "source": [
    "a,b,c=5,2.3,\"hello\"\n",
    "print(a)\n",
    "print(b)\n",
    "print(c)"
   ]
  },
  {
   "cell_type": "code",
   "execution_count": 10,
   "id": "3060f026",
   "metadata": {},
   "outputs": [
    {
     "name": "stdout",
     "output_type": "stream",
     "text": [
      "same same same\n"
     ]
    }
   ],
   "source": [
    "x=y=z=\"same\"\n",
    "print(x,y,z)"
   ]
  },
  {
   "cell_type": "code",
   "execution_count": 11,
   "id": "32be5f7f",
   "metadata": {},
   "outputs": [
    {
     "data": {
      "text/plain": [
       "complex"
      ]
     },
     "execution_count": 11,
     "metadata": {},
     "output_type": "execute_result"
    }
   ],
   "source": [
    "x=1.0-1.0j\n",
    "type(x)"
   ]
  },
  {
   "cell_type": "code",
   "execution_count": 12,
   "id": "d5314246",
   "metadata": {},
   "outputs": [
    {
     "name": "stdout",
     "output_type": "stream",
     "text": [
      "(1-1j)\n"
     ]
    }
   ],
   "source": [
    "print(x)"
   ]
  },
  {
   "cell_type": "code",
   "execution_count": 13,
   "id": "20aaacd6",
   "metadata": {},
   "outputs": [
    {
     "data": {
      "text/plain": [
       "True"
      ]
     },
     "execution_count": 13,
     "metadata": {},
     "output_type": "execute_result"
    }
   ],
   "source": [
    "x=1.0\n",
    "type(x) is float"
   ]
  },
  {
   "cell_type": "code",
   "execution_count": 14,
   "id": "f47fa9f3",
   "metadata": {},
   "outputs": [
    {
     "data": {
      "text/plain": [
       "False"
      ]
     },
     "execution_count": 14,
     "metadata": {},
     "output_type": "execute_result"
    }
   ],
   "source": [
    "type(x) is int"
   ]
  },
  {
   "cell_type": "code",
   "execution_count": 15,
   "id": "50c4d2fc",
   "metadata": {},
   "outputs": [
    {
     "data": {
      "text/plain": [
       "True"
      ]
     },
     "execution_count": 15,
     "metadata": {},
     "output_type": "execute_result"
    }
   ],
   "source": [
    "isinstance(x,float)"
   ]
  },
  {
   "cell_type": "code",
   "execution_count": 18,
   "id": "bd735a46",
   "metadata": {},
   "outputs": [
    {
     "data": {
      "text/plain": [
       "str"
      ]
     },
     "execution_count": 18,
     "metadata": {},
     "output_type": "execute_result"
    }
   ],
   "source": [
    "strings=\"this is python\"\n",
    "char = \"p\"\n",
    "# type(strings)\n",
    "type(char)"
   ]
  },
  {
   "cell_type": "code",
   "execution_count": 22,
   "id": "846a1c19",
   "metadata": {},
   "outputs": [
    {
     "name": "stdout",
     "output_type": "stream",
     "text": [
      "3\n",
      "19\n",
      "3.75\n",
      "60\n",
      "50625\n",
      "11\n"
     ]
    }
   ],
   "source": [
    "x=15\n",
    "y=4\n",
    "print(x//y)\n",
    "print(x+y)\n",
    "print(x/y)\n",
    "print(x*y)\n",
    "print(x**y)\n",
    "print(x-y)"
   ]
  },
  {
   "cell_type": "code",
   "execution_count": 23,
   "id": "3fb7b568",
   "metadata": {},
   "outputs": [
    {
     "data": {
      "text/plain": [
       "'abc'"
      ]
     },
     "execution_count": 23,
     "metadata": {},
     "output_type": "execute_result"
    }
   ],
   "source": [
    "a=\"abc\"\n",
    "b=\"abc\"\n",
    "a and b"
   ]
  },
  {
   "cell_type": "code",
   "execution_count": 25,
   "id": "8d539da9",
   "metadata": {},
   "outputs": [
    {
     "data": {
      "text/plain": [
       "'abc'"
      ]
     },
     "execution_count": 25,
     "metadata": {},
     "output_type": "execute_result"
    }
   ],
   "source": [
    "a=\"abc\"\n",
    "b=\"abc\"\n",
    "\"abc\" and \"abc\""
   ]
  },
  {
   "cell_type": "code",
   "execution_count": 29,
   "id": "2501fa12",
   "metadata": {},
   "outputs": [
    {
     "name": "stdout",
     "output_type": "stream",
     "text": [
      "x and y is False\n",
      "x or y is True\n",
      "not y is True\n"
     ]
    }
   ],
   "source": [
    " x= True\n",
    " y= False\n",
    "print('x and y is', x and y)\n",
    "print('x or y is', x or y)\n",
    "print('not y is', not y)"
   ]
  },
  {
   "cell_type": "code",
   "execution_count": 30,
   "id": "82f12492",
   "metadata": {},
   "outputs": [
    {
     "name": "stdout",
     "output_type": "stream",
     "text": [
      "True\n"
     ]
    }
   ],
   "source": [
    "x1=5\n",
    "y1=5\n",
    "x2='Hello'\n",
    "y2='Hello'\n",
    "x3=[1,2,3]\n",
    "y3=[1,2,3]\n",
    "print(x1 is y1)"
   ]
  },
  {
   "cell_type": "code",
   "execution_count": 31,
   "id": "73ba1935",
   "metadata": {},
   "outputs": [
    {
     "name": "stdout",
     "output_type": "stream",
     "text": [
      "True\n",
      "True\n",
      "True\n",
      "False\n"
     ]
    }
   ],
   "source": [
    "x='Hello,world'\n",
    "y={1:'a',2:'b'}\n",
    "print('H' in x)\n",
    "print('hello' not in x)\n",
    "print(1 in y)\n",
    "print('a' in y)"
   ]
  },
  {
   "cell_type": "code",
   "execution_count": 32,
   "id": "8c135e5b",
   "metadata": {},
   "outputs": [],
   "source": [
    "s=\"Hello world\""
   ]
  },
  {
   "cell_type": "code",
   "execution_count": 33,
   "id": "3e5142e1",
   "metadata": {},
   "outputs": [
    {
     "data": {
      "text/plain": [
       "11"
      ]
     },
     "execution_count": 33,
     "metadata": {},
     "output_type": "execute_result"
    }
   ],
   "source": [
    "len(s)"
   ]
  },
  {
   "cell_type": "code",
   "execution_count": 36,
   "id": "b0e338d4",
   "metadata": {},
   "outputs": [
    {
     "name": "stdout",
     "output_type": "stream",
     "text": [
      "Hello test\n"
     ]
    }
   ],
   "source": [
    "s2=s.replace('world','test')\n",
    "print(s2)"
   ]
  },
  {
   "cell_type": "code",
   "execution_count": 37,
   "id": "92370e2b",
   "metadata": {},
   "outputs": [
    {
     "name": "stdout",
     "output_type": "stream",
     "text": [
      "Hello wo\n"
     ]
    }
   ],
   "source": [
    "print(s[:8])"
   ]
  },
  {
   "cell_type": "code",
   "execution_count": 38,
   "id": "5b5b9472",
   "metadata": {},
   "outputs": [
    {
     "data": {
      "text/plain": [
       "'llo world'"
      ]
     },
     "execution_count": 38,
     "metadata": {},
     "output_type": "execute_result"
    }
   ],
   "source": [
    "s[2:]"
   ]
  },
  {
   "cell_type": "code",
   "execution_count": 39,
   "id": "671e3d50",
   "metadata": {},
   "outputs": [
    {
     "data": {
      "text/plain": [
       "'Hello world'"
      ]
     },
     "execution_count": 39,
     "metadata": {},
     "output_type": "execute_result"
    }
   ],
   "source": [
    "s[:]"
   ]
  },
  {
   "cell_type": "code",
   "execution_count": 40,
   "id": "98559d28",
   "metadata": {},
   "outputs": [
    {
     "data": {
      "text/plain": [
       "'Hello world'"
      ]
     },
     "execution_count": 40,
     "metadata": {},
     "output_type": "execute_result"
    }
   ],
   "source": [
    "s[::]"
   ]
  },
  {
   "cell_type": "code",
   "execution_count": 41,
   "id": "104b0ee9",
   "metadata": {},
   "outputs": [
    {
     "data": {
      "text/plain": [
       "'Hello world'"
      ]
     },
     "execution_count": 41,
     "metadata": {},
     "output_type": "execute_result"
    }
   ],
   "source": [
    "s[::1]"
   ]
  },
  {
   "cell_type": "code",
   "execution_count": 42,
   "id": "65341cdc",
   "metadata": {},
   "outputs": [
    {
     "data": {
      "text/plain": [
       "'Hlowrd'"
      ]
     },
     "execution_count": 42,
     "metadata": {},
     "output_type": "execute_result"
    }
   ],
   "source": [
    "s[::2]"
   ]
  },
  {
   "cell_type": "code",
   "execution_count": 43,
   "id": "fb60a392",
   "metadata": {},
   "outputs": [
    {
     "data": {
      "text/plain": [
       "'Hlwl'"
      ]
     },
     "execution_count": 43,
     "metadata": {},
     "output_type": "execute_result"
    }
   ],
   "source": [
    "s[::3]"
   ]
  },
  {
   "cell_type": "code",
   "execution_count": 44,
   "id": "a66db21c",
   "metadata": {},
   "outputs": [
    {
     "data": {
      "text/plain": [
       "'e'"
      ]
     },
     "execution_count": 44,
     "metadata": {},
     "output_type": "execute_result"
    }
   ],
   "source": [
    "s[1:4:3]"
   ]
  },
  {
   "cell_type": "code",
   "execution_count": 45,
   "id": "201ca504",
   "metadata": {},
   "outputs": [
    {
     "data": {
      "text/plain": [
       "'eoo'"
      ]
     },
     "execution_count": 45,
     "metadata": {},
     "output_type": "execute_result"
    }
   ],
   "source": [
    "s[1:9:3]"
   ]
  },
  {
   "cell_type": "code",
   "execution_count": 46,
   "id": "538709b0",
   "metadata": {},
   "outputs": [
    {
     "data": {
      "text/plain": [
       "'e l'"
      ]
     },
     "execution_count": 46,
     "metadata": {},
     "output_type": "execute_result"
    }
   ],
   "source": [
    "s[1:11:4]"
   ]
  },
  {
   "cell_type": "code",
   "execution_count": 47,
   "id": "f78830f5",
   "metadata": {},
   "outputs": [
    {
     "data": {
      "text/plain": [
       "'Hello world'"
      ]
     },
     "execution_count": 47,
     "metadata": {},
     "output_type": "execute_result"
    }
   ],
   "source": [
    "s[0:11:]"
   ]
  },
  {
   "cell_type": "code",
   "execution_count": 48,
   "id": "d616cdd3",
   "metadata": {},
   "outputs": [
    {
     "data": {
      "text/plain": [
       "'H d'"
      ]
     },
     "execution_count": 48,
     "metadata": {},
     "output_type": "execute_result"
    }
   ],
   "source": [
    "s[0:11:5]"
   ]
  },
  {
   "cell_type": "code",
   "execution_count": 49,
   "id": "d35eb069",
   "metadata": {},
   "outputs": [
    {
     "data": {
      "text/plain": [
       "''"
      ]
     },
     "execution_count": 49,
     "metadata": {},
     "output_type": "execute_result"
    }
   ],
   "source": [
    "s[0:-11]"
   ]
  },
  {
   "cell_type": "code",
   "execution_count": 50,
   "id": "61a51e8d",
   "metadata": {},
   "outputs": [
    {
     "data": {
      "text/plain": [
       "''"
      ]
     },
     "execution_count": 50,
     "metadata": {},
     "output_type": "execute_result"
    }
   ],
   "source": [
    "s[-1:-5]"
   ]
  },
  {
   "cell_type": "code",
   "execution_count": 52,
   "id": "19ea8853",
   "metadata": {},
   "outputs": [
    {
     "name": "stdout",
     "output_type": "stream",
     "text": [
      "[]\n",
      "[1, 2, 3, 'example', 30123]\n"
     ]
    }
   ],
   "source": [
    "my_list=[]\n",
    "print(my_list)\n",
    "my_list=[1,2,3,'example',30123]\n",
    "print(my_list)"
   ]
  },
  {
   "cell_type": "code",
   "execution_count": 53,
   "id": "46f97a86",
   "metadata": {},
   "outputs": [
    {
     "data": {
      "text/plain": [
       "''"
      ]
     },
     "execution_count": 53,
     "metadata": {},
     "output_type": "execute_result"
    }
   ],
   "source": [
    "s[-11:0]"
   ]
  },
  {
   "cell_type": "code",
   "execution_count": 54,
   "id": "a5492529",
   "metadata": {},
   "outputs": [
    {
     "data": {
      "text/plain": [
       "'Hello'"
      ]
     },
     "execution_count": 54,
     "metadata": {},
     "output_type": "execute_result"
    }
   ],
   "source": [
    "s[-11:5]"
   ]
  },
  {
   "cell_type": "code",
   "execution_count": 58,
   "id": "d9c32c85",
   "metadata": {},
   "outputs": [
    {
     "name": "stdout",
     "output_type": "stream",
     "text": [
      "[1, 2, 3, [55, 12]]\n",
      "[1, 2, 3, [55, 12], 234, 'more example']\n",
      "[1, 2, 3, 'insert example', [55, 12], 234, 'more example']\n"
     ]
    }
   ],
   "source": [
    "my_list=[1,2,3]\n",
    "my_list.append([55, 12])\n",
    "print(my_list)\n",
    "my_list.extend([234,'more example'])\n",
    "print(my_list)\n",
    "my_list.insert(3,'insert example')\n",
    "print(my_list)"
   ]
  },
  {
   "cell_type": "code",
   "execution_count": 61,
   "id": "a7e82b4f",
   "metadata": {},
   "outputs": [
    {
     "name": "stdout",
     "output_type": "stream",
     "text": [
      "[1, 2, 3, 'insert example', [55, 12]]\n"
     ]
    }
   ],
   "source": [
    "del my_list[5]\n",
    "print(my_list)"
   ]
  },
  {
   "cell_type": "code",
   "execution_count": 74,
   "id": "7266cdf1",
   "metadata": {},
   "outputs": [
    {
     "ename": "SyntaxError",
     "evalue": "invalid syntax (3215424174.py, line 1)",
     "output_type": "error",
     "traceback": [
      "\u001b[1;36m  Cell \u001b[1;32mIn [74], line 1\u001b[1;36m\u001b[0m\n\u001b[1;33m    my_ist=[1,2,3,'my list',4,5,,7,'insert example']\u001b[0m\n\u001b[1;37m                                ^\u001b[0m\n\u001b[1;31mSyntaxError\u001b[0m\u001b[1;31m:\u001b[0m invalid syntax\n"
     ]
    }
   ],
   "source": [
    "my_ist=[1,2,3,'my list',4,5,,7,'insert example']\n"
   ]
  },
  {
   "cell_type": "code",
   "execution_count": 73,
   "id": "5423102d",
   "metadata": {},
   "outputs": [
    {
     "ename": "NameError",
     "evalue": "name 'my_ist' is not defined",
     "output_type": "error",
     "traceback": [
      "\u001b[1;31m---------------------------------------------------------------------------\u001b[0m",
      "\u001b[1;31mNameError\u001b[0m                                 Traceback (most recent call last)",
      "Cell \u001b[1;32mIn [73], line 1\u001b[0m\n\u001b[1;32m----> 1\u001b[0m \u001b[43mmy_ist\u001b[49m\u001b[38;5;241m.\u001b[39mremove(\u001b[38;5;124m'\u001b[39m\u001b[38;5;124minsert example\u001b[39m\u001b[38;5;124m'\u001b[39m)\n\u001b[0;32m      2\u001b[0m \u001b[38;5;28mprint\u001b[39m(my_ist)\n",
      "\u001b[1;31mNameError\u001b[0m: name 'my_ist' is not defined"
     ]
    }
   ],
   "source": [
    "my_ist.remove('insert example')\n",
    "print(my_ist)"
   ]
  },
  {
   "cell_type": "code",
   "execution_count": null,
   "id": "70f0d54a",
   "metadata": {},
   "outputs": [],
   "source": []
  },
  {
   "cell_type": "code",
   "execution_count": 72,
   "id": "e2503dbe",
   "metadata": {},
   "outputs": [
    {
     "ename": "NameError",
     "evalue": "name 'my_ist' is not defined",
     "output_type": "error",
     "traceback": [
      "\u001b[1;31m---------------------------------------------------------------------------\u001b[0m",
      "\u001b[1;31mNameError\u001b[0m                                 Traceback (most recent call last)",
      "Cell \u001b[1;32mIn [72], line 1\u001b[0m\n\u001b[1;32m----> 1\u001b[0m a\u001b[38;5;241m=\u001b[39m\u001b[43mmy_ist\u001b[49m\u001b[38;5;241m.\u001b[39mpop(\u001b[38;5;241m3\u001b[39m)\n\u001b[0;32m      2\u001b[0m \u001b[38;5;28mprint\u001b[39m(\u001b[38;5;124m'\u001b[39m\u001b[38;5;124mPoped Element: \u001b[39m\u001b[38;5;124m'\u001b[39m,a,\u001b[38;5;124m'\u001b[39m\u001b[38;5;124m List remining \u001b[39m\u001b[38;5;124m'\u001b[39m,my_ist)\n\u001b[0;32m      3\u001b[0m my_ist\u001b[38;5;241m.\u001b[39mclear()\n",
      "\u001b[1;31mNameError\u001b[0m: name 'my_ist' is not defined"
     ]
    }
   ],
   "source": [
    "a=my_ist.pop(3)\n",
    "print('Poped Element: ',a,' List remining ',my_ist)\n",
    "my_ist.clear()\n",
    "print(my_ist)"
   ]
  },
  {
   "cell_type": "code",
   "execution_count": null,
   "id": "6cb1f6f0",
   "metadata": {},
   "outputs": [],
   "source": []
  },
  {
   "cell_type": "code",
   "execution_count": null,
   "id": "4fbc0504",
   "metadata": {},
   "outputs": [],
   "source": []
  }
 ],
 "metadata": {
  "kernelspec": {
   "display_name": "Python 3 (ipykernel)",
   "language": "python",
   "name": "python3"
  },
  "language_info": {
   "codemirror_mode": {
    "name": "ipython",
    "version": 3
   },
   "file_extension": ".py",
   "mimetype": "text/x-python",
   "name": "python",
   "nbconvert_exporter": "python",
   "pygments_lexer": "ipython3",
   "version": "3.10.6"
  }
 },
 "nbformat": 4,
 "nbformat_minor": 5
}
