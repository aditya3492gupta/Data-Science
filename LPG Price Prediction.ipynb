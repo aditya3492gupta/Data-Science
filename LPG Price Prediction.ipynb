{
 "cells": [
  {
   "cell_type": "code",
   "execution_count": 1,
   "id": "0d9f11ac",
   "metadata": {},
   "outputs": [],
   "source": [
    "import numpy as np\n",
    "import pandas as pd \n",
    "import matplotlib.pyplot as plt"
   ]
  },
  {
   "cell_type": "code",
   "execution_count": 2,
   "id": "088bbd7c",
   "metadata": {},
   "outputs": [],
   "source": [
    "data=pd.read_csv('lpg_price_for_metropolitan.csv')"
   ]
  },
  {
   "cell_type": "code",
   "execution_count": 3,
   "id": "d1149db5",
   "metadata": {},
   "outputs": [
    {
     "data": {
      "text/html": [
       "<div>\n",
       "<style scoped>\n",
       "    .dataframe tbody tr th:only-of-type {\n",
       "        vertical-align: middle;\n",
       "    }\n",
       "\n",
       "    .dataframe tbody tr th {\n",
       "        vertical-align: top;\n",
       "    }\n",
       "\n",
       "    .dataframe thead th {\n",
       "        text-align: right;\n",
       "    }\n",
       "</style>\n",
       "<table border=\"1\" class=\"dataframe\">\n",
       "  <thead>\n",
       "    <tr style=\"text-align: right;\">\n",
       "      <th></th>\n",
       "      <th>city</th>\n",
       "      <th>date</th>\n",
       "      <th>rate</th>\n",
       "    </tr>\n",
       "  </thead>\n",
       "  <tbody>\n",
       "    <tr>\n",
       "      <th>0</th>\n",
       "      <td>Chennai</td>\n",
       "      <td>2017-06-01</td>\n",
       "      <td>434.00</td>\n",
       "    </tr>\n",
       "    <tr>\n",
       "      <th>1</th>\n",
       "      <td>Chennai</td>\n",
       "      <td>2017-08-01</td>\n",
       "      <td>464.00</td>\n",
       "    </tr>\n",
       "    <tr>\n",
       "      <th>2</th>\n",
       "      <td>Chennai</td>\n",
       "      <td>2017-09-01</td>\n",
       "      <td>468.50</td>\n",
       "    </tr>\n",
       "    <tr>\n",
       "      <th>3</th>\n",
       "      <td>Chennai</td>\n",
       "      <td>2017-10-01</td>\n",
       "      <td>470.00</td>\n",
       "    </tr>\n",
       "    <tr>\n",
       "      <th>4</th>\n",
       "      <td>Chennai</td>\n",
       "      <td>2018-06-01</td>\n",
       "      <td>481.84</td>\n",
       "    </tr>\n",
       "  </tbody>\n",
       "</table>\n",
       "</div>"
      ],
      "text/plain": [
       "      city        date    rate\n",
       "0  Chennai  2017-06-01  434.00\n",
       "1  Chennai  2017-08-01  464.00\n",
       "2  Chennai  2017-09-01  468.50\n",
       "3  Chennai  2017-10-01  470.00\n",
       "4  Chennai  2018-06-01  481.84"
      ]
     },
     "execution_count": 3,
     "metadata": {},
     "output_type": "execute_result"
    }
   ],
   "source": [
    "data.head()"
   ]
  },
  {
   "cell_type": "code",
   "execution_count": 4,
   "id": "7e2520ec",
   "metadata": {},
   "outputs": [
    {
     "data": {
      "text/html": [
       "<div>\n",
       "<style scoped>\n",
       "    .dataframe tbody tr th:only-of-type {\n",
       "        vertical-align: middle;\n",
       "    }\n",
       "\n",
       "    .dataframe tbody tr th {\n",
       "        vertical-align: top;\n",
       "    }\n",
       "\n",
       "    .dataframe thead th {\n",
       "        text-align: right;\n",
       "    }\n",
       "</style>\n",
       "<table border=\"1\" class=\"dataframe\">\n",
       "  <thead>\n",
       "    <tr style=\"text-align: right;\">\n",
       "      <th></th>\n",
       "      <th>city</th>\n",
       "      <th>date</th>\n",
       "      <th>rate</th>\n",
       "    </tr>\n",
       "  </thead>\n",
       "  <tbody>\n",
       "    <tr>\n",
       "      <th>163</th>\n",
       "      <td>Mumbai</td>\n",
       "      <td>2021-08-01</td>\n",
       "      <td>834.5</td>\n",
       "    </tr>\n",
       "    <tr>\n",
       "      <th>164</th>\n",
       "      <td>Mumbai</td>\n",
       "      <td>2021-08-18</td>\n",
       "      <td>859.5</td>\n",
       "    </tr>\n",
       "    <tr>\n",
       "      <th>165</th>\n",
       "      <td>Mumbai</td>\n",
       "      <td>2021-09-01</td>\n",
       "      <td>884.5</td>\n",
       "    </tr>\n",
       "    <tr>\n",
       "      <th>166</th>\n",
       "      <td>Mumbai</td>\n",
       "      <td>2021-10-01</td>\n",
       "      <td>910.5</td>\n",
       "    </tr>\n",
       "    <tr>\n",
       "      <th>167</th>\n",
       "      <td>Mumbai</td>\n",
       "      <td>2021-10-06</td>\n",
       "      <td>899.5</td>\n",
       "    </tr>\n",
       "  </tbody>\n",
       "</table>\n",
       "</div>"
      ],
      "text/plain": [
       "       city        date   rate\n",
       "163  Mumbai  2021-08-01  834.5\n",
       "164  Mumbai  2021-08-18  859.5\n",
       "165  Mumbai  2021-09-01  884.5\n",
       "166  Mumbai  2021-10-01  910.5\n",
       "167  Mumbai  2021-10-06  899.5"
      ]
     },
     "execution_count": 4,
     "metadata": {},
     "output_type": "execute_result"
    }
   ],
   "source": [
    "data.tail()"
   ]
  },
  {
   "cell_type": "code",
   "execution_count": 5,
   "id": "4abe5776",
   "metadata": {},
   "outputs": [
    {
     "name": "stdout",
     "output_type": "stream",
     "text": [
      "<class 'pandas.core.frame.DataFrame'>\n",
      "RangeIndex: 168 entries, 0 to 167\n",
      "Data columns (total 3 columns):\n",
      " #   Column  Non-Null Count  Dtype  \n",
      "---  ------  --------------  -----  \n",
      " 0   city    168 non-null    object \n",
      " 1   date    168 non-null    object \n",
      " 2   rate    168 non-null    float64\n",
      "dtypes: float64(1), object(2)\n",
      "memory usage: 4.1+ KB\n"
     ]
    }
   ],
   "source": [
    "data.info()"
   ]
  },
  {
   "cell_type": "code",
   "execution_count": 6,
   "id": "8a1d0eb5",
   "metadata": {},
   "outputs": [
    {
     "data": {
      "text/html": [
       "<div>\n",
       "<style scoped>\n",
       "    .dataframe tbody tr th:only-of-type {\n",
       "        vertical-align: middle;\n",
       "    }\n",
       "\n",
       "    .dataframe tbody tr th {\n",
       "        vertical-align: top;\n",
       "    }\n",
       "\n",
       "    .dataframe thead th {\n",
       "        text-align: right;\n",
       "    }\n",
       "</style>\n",
       "<table border=\"1\" class=\"dataframe\">\n",
       "  <thead>\n",
       "    <tr style=\"text-align: right;\">\n",
       "      <th></th>\n",
       "      <th>rate</th>\n",
       "    </tr>\n",
       "  </thead>\n",
       "  <tbody>\n",
       "    <tr>\n",
       "      <th>count</th>\n",
       "      <td>168.000000</td>\n",
       "    </tr>\n",
       "    <tr>\n",
       "      <th>mean</th>\n",
       "      <td>627.420238</td>\n",
       "    </tr>\n",
       "    <tr>\n",
       "      <th>std</th>\n",
       "      <td>164.637910</td>\n",
       "    </tr>\n",
       "    <tr>\n",
       "      <th>min</th>\n",
       "      <td>60.000000</td>\n",
       "    </tr>\n",
       "    <tr>\n",
       "      <th>25%</th>\n",
       "      <td>492.505000</td>\n",
       "    </tr>\n",
       "    <tr>\n",
       "      <th>50%</th>\n",
       "      <td>566.750000</td>\n",
       "    </tr>\n",
       "    <tr>\n",
       "      <th>75%</th>\n",
       "      <td>794.000000</td>\n",
       "    </tr>\n",
       "    <tr>\n",
       "      <th>max</th>\n",
       "      <td>926.000000</td>\n",
       "    </tr>\n",
       "  </tbody>\n",
       "</table>\n",
       "</div>"
      ],
      "text/plain": [
       "             rate\n",
       "count  168.000000\n",
       "mean   627.420238\n",
       "std    164.637910\n",
       "min     60.000000\n",
       "25%    492.505000\n",
       "50%    566.750000\n",
       "75%    794.000000\n",
       "max    926.000000"
      ]
     },
     "execution_count": 6,
     "metadata": {},
     "output_type": "execute_result"
    }
   ],
   "source": [
    "data.describe()"
   ]
  },
  {
   "cell_type": "code",
   "execution_count": 7,
   "id": "ee955724",
   "metadata": {},
   "outputs": [
    {
     "data": {
      "text/plain": [
       "<bound method DataFrame.isnull of         city        date    rate\n",
       "0    Chennai  2017-06-01  434.00\n",
       "1    Chennai  2017-08-01  464.00\n",
       "2    Chennai  2017-09-01  468.50\n",
       "3    Chennai  2017-10-01  470.00\n",
       "4    Chennai  2018-06-01  481.84\n",
       "..       ...         ...     ...\n",
       "163   Mumbai  2021-08-01  834.50\n",
       "164   Mumbai  2021-08-18  859.50\n",
       "165   Mumbai  2021-09-01  884.50\n",
       "166   Mumbai  2021-10-01  910.50\n",
       "167   Mumbai  2021-10-06  899.50\n",
       "\n",
       "[168 rows x 3 columns]>"
      ]
     },
     "execution_count": 7,
     "metadata": {},
     "output_type": "execute_result"
    }
   ],
   "source": [
    "data.isnull"
   ]
  },
  {
   "cell_type": "code",
   "execution_count": 8,
   "id": "b8c6237c",
   "metadata": {},
   "outputs": [
    {
     "data": {
      "text/plain": [
       "0      Chennai\n",
       "1      Chennai\n",
       "2      Chennai\n",
       "3      Chennai\n",
       "4      Chennai\n",
       "        ...   \n",
       "163     Mumbai\n",
       "164     Mumbai\n",
       "165     Mumbai\n",
       "166     Mumbai\n",
       "167     Mumbai\n",
       "Name: city, Length: 168, dtype: object"
      ]
     },
     "execution_count": 8,
     "metadata": {},
     "output_type": "execute_result"
    }
   ],
   "source": [
    "data.city"
   ]
  },
  {
   "cell_type": "code",
   "execution_count": 9,
   "id": "0795829a",
   "metadata": {},
   "outputs": [
    {
     "data": {
      "text/plain": [
       "Delhi      44\n",
       "Mumbai     44\n",
       "Chennai    40\n",
       "Kolkata    40\n",
       "Name: city, dtype: int64"
      ]
     },
     "execution_count": 9,
     "metadata": {},
     "output_type": "execute_result"
    }
   ],
   "source": [
    "pd.value_counts(data.city)"
   ]
  },
  {
   "cell_type": "code",
   "execution_count": 10,
   "id": "aff221be",
   "metadata": {},
   "outputs": [
    {
     "data": {
      "text/plain": [
       "2019-06-01    5\n",
       "2021-02-04    5\n",
       "2017-06-01    4\n",
       "2020-01-01    4\n",
       "2020-03-01    4\n",
       "2017-08-01    4\n",
       "2020-05-01    4\n",
       "2020-06-01    4\n",
       "2020-07-01    4\n",
       "2021-01-01    4\n",
       "2021-02-15    4\n",
       "2021-02-25    4\n",
       "2021-04-01    4\n",
       "2021-05-01    4\n",
       "2021-07-01    4\n",
       "2021-08-01    4\n",
       "2021-08-18    4\n",
       "2021-09-01    4\n",
       "2021-10-06    4\n",
       "2020-02-12    4\n",
       "2020-04-01    4\n",
       "2019-12-01    4\n",
       "2018-11-01    4\n",
       "2017-09-01    4\n",
       "2017-10-01    4\n",
       "2018-06-01    4\n",
       "2018-07-01    4\n",
       "2018-08-01    4\n",
       "2019-11-01    4\n",
       "2018-10-01    4\n",
       "2018-09-01    4\n",
       "2018-12-01    4\n",
       "2019-01-01    4\n",
       "2019-02-01    4\n",
       "2019-03-01    4\n",
       "2019-04-01    4\n",
       "2019-05-01    4\n",
       "2019-07-01    4\n",
       "2021-10-01    3\n",
       "2017-07-01    3\n",
       "2017-04-01    2\n",
       "2017-05-01    2\n",
       "2020-09-01    1\n",
       "2017-01-01    1\n",
       "2018-04-01    1\n",
       "2017-12-01    1\n",
       "Name: date, dtype: int64"
      ]
     },
     "execution_count": 10,
     "metadata": {},
     "output_type": "execute_result"
    }
   ],
   "source": [
    "pd.value_counts(data.date)"
   ]
  },
  {
   "cell_type": "code",
   "execution_count": 11,
   "id": "850a601e",
   "metadata": {},
   "outputs": [
    {
     "data": {
      "text/plain": [
       "array(['2017-06-01', '2017-08-01', '2017-09-01', '2017-10-01',\n",
       "       '2018-06-01', '2018-07-01', '2018-08-01', '2018-09-01',\n",
       "       '2018-10-01', '2018-11-01', '2018-12-01', '2019-01-01',\n",
       "       '2019-02-01', '2019-03-01', '2019-04-01', '2019-05-01',\n",
       "       '2019-06-01', '2019-07-01', '2019-11-01', '2019-12-01',\n",
       "       '2020-01-01', '2020-02-12', '2020-03-01', '2020-04-01',\n",
       "       '2020-05-01', '2020-06-01', '2020-07-01', '2020-09-01',\n",
       "       '2021-01-01', '2021-02-04', '2021-02-15', '2021-02-25',\n",
       "       '2021-04-01', '2021-05-01', '2021-07-01', '2021-08-01',\n",
       "       '2021-08-18', '2021-09-01', '2021-10-01', '2021-10-06',\n",
       "       '2017-01-01', '2017-04-01', '2017-05-01', '2017-07-01',\n",
       "       '2018-04-01', '2017-12-01'], dtype=object)"
      ]
     },
     "execution_count": 11,
     "metadata": {},
     "output_type": "execute_result"
    }
   ],
   "source": [
    "data['date'].unique()"
   ]
  },
  {
   "cell_type": "code",
   "execution_count": 12,
   "id": "fd670af9",
   "metadata": {},
   "outputs": [
    {
     "data": {
      "text/plain": [
       "array([434.  , 464.  , 468.5 , 470.  , 481.84, 484.67, 486.42, 488.01,\n",
       "       490.83, 493.87, 488.85, 482.88, 481.34, 483.49, 483.74, 484.02,\n",
       "       485.25, 482.23, 696.  , 714.  , 734.  , 878.5 , 825.5 , 761.5 ,\n",
       "       599.  , 606.5 , 610.5 , 610.  , 710.  , 735.  , 785.  , 810.  ,\n",
       "       825.  , 850.5 , 875.5 , 900.5 , 915.5 , 434.5 , 440.5 , 442.5 ,\n",
       "       446.5 , 473.  , 477.5 , 481.5 , 483.  , 493.55, 496.26, 498.02,\n",
       "       499.51, 502.4 , 505.34, 500.9 , 494.99, 493.53, 495.61, 495.86,\n",
       "       496.14, 494.35, 497.37, 681.5 , 695.  , 858.5 , 805.5 , 744.  ,\n",
       "       581.5 , 593.  , 594.  , 694.  , 719.  , 769.  , 794.  , 809.  ,\n",
       "       834.5 , 859.5 , 884.5 , 899.5 , 448.5 , 475.  , 479.5 , 483.5 ,\n",
       "       485.  , 496.65, 499.48, 501.25, 502.79, 505.64, 508.7 , 504.12,\n",
       "       498.09, 496.57, 498.75, 499.  , 499.29, 500.52, 497.47, 706.  ,\n",
       "       725.5 , 747.  , 891.5 , 838.5 , 774.5 , 612.  , 616.  , 620.5 ,\n",
       "       720.5 , 745.5 , 795.5 , 820.  , 835.5 , 861.  , 886.  , 911.  ,\n",
       "       926.  , 470.5 , 474.5 , 488.  ,  60.  , 485.5 , 487.  , 482.  ,\n",
       "       491.31, 494.1 , 495.87, 497.36, 500.11, 503.11, 498.57, 492.66,\n",
       "       491.19, 493.32, 493.57, 493.86, 495.09, 492.04, 651.  , 665.  ,\n",
       "       684.5 , 829.  , 776.  , 714.5 , 552.  , 590.5 , 910.5 ])"
      ]
     },
     "execution_count": 12,
     "metadata": {},
     "output_type": "execute_result"
    }
   ],
   "source": [
    "data['rate'].unique()"
   ]
  },
  {
   "cell_type": "code",
   "execution_count": 13,
   "id": "58447a0b",
   "metadata": {},
   "outputs": [
    {
     "data": {
      "text/plain": [
       "dtype('float64')"
      ]
     },
     "execution_count": 13,
     "metadata": {},
     "output_type": "execute_result"
    }
   ],
   "source": [
    "data['rate'].dtype"
   ]
  },
  {
   "cell_type": "code",
   "execution_count": 14,
   "id": "2c7dc89c",
   "metadata": {},
   "outputs": [
    {
     "data": {
      "text/plain": [
       "0      False\n",
       "1      False\n",
       "2      False\n",
       "3      False\n",
       "4      False\n",
       "       ...  \n",
       "163    False\n",
       "164    False\n",
       "165    False\n",
       "166    False\n",
       "167    False\n",
       "Name: date, Length: 168, dtype: bool"
      ]
     },
     "execution_count": 14,
     "metadata": {},
     "output_type": "execute_result"
    }
   ],
   "source": [
    "data['date'].str.isnumeric()"
   ]
  },
  {
   "cell_type": "code",
   "execution_count": 15,
   "id": "5f413dbe",
   "metadata": {},
   "outputs": [
    {
     "data": {
      "text/plain": [
       "164.63791042661944"
      ]
     },
     "execution_count": 15,
     "metadata": {},
     "output_type": "execute_result"
    }
   ],
   "source": [
    "std_x = data.rate.std()\n",
    "std_x"
   ]
  },
  {
   "cell_type": "code",
   "execution_count": 16,
   "id": "d40ccd05",
   "metadata": {},
   "outputs": [
    {
     "data": {
      "text/html": [
       "<div>\n",
       "<style scoped>\n",
       "    .dataframe tbody tr th:only-of-type {\n",
       "        vertical-align: middle;\n",
       "    }\n",
       "\n",
       "    .dataframe tbody tr th {\n",
       "        vertical-align: top;\n",
       "    }\n",
       "\n",
       "    .dataframe thead th {\n",
       "        text-align: right;\n",
       "    }\n",
       "</style>\n",
       "<table border=\"1\" class=\"dataframe\">\n",
       "  <thead>\n",
       "    <tr style=\"text-align: right;\">\n",
       "      <th></th>\n",
       "      <th>city</th>\n",
       "      <th>Year</th>\n",
       "      <th>rate</th>\n",
       "    </tr>\n",
       "  </thead>\n",
       "  <tbody>\n",
       "    <tr>\n",
       "      <th>0</th>\n",
       "      <td>Chennai</td>\n",
       "      <td>2017-06-01</td>\n",
       "      <td>434.00</td>\n",
       "    </tr>\n",
       "    <tr>\n",
       "      <th>1</th>\n",
       "      <td>Chennai</td>\n",
       "      <td>2017-08-01</td>\n",
       "      <td>464.00</td>\n",
       "    </tr>\n",
       "    <tr>\n",
       "      <th>2</th>\n",
       "      <td>Chennai</td>\n",
       "      <td>2017-09-01</td>\n",
       "      <td>468.50</td>\n",
       "    </tr>\n",
       "    <tr>\n",
       "      <th>3</th>\n",
       "      <td>Chennai</td>\n",
       "      <td>2017-10-01</td>\n",
       "      <td>470.00</td>\n",
       "    </tr>\n",
       "    <tr>\n",
       "      <th>4</th>\n",
       "      <td>Chennai</td>\n",
       "      <td>2018-06-01</td>\n",
       "      <td>481.84</td>\n",
       "    </tr>\n",
       "  </tbody>\n",
       "</table>\n",
       "</div>"
      ],
      "text/plain": [
       "      city        Year    rate\n",
       "0  Chennai  2017-06-01  434.00\n",
       "1  Chennai  2017-08-01  464.00\n",
       "2  Chennai  2017-09-01  468.50\n",
       "3  Chennai  2017-10-01  470.00\n",
       "4  Chennai  2018-06-01  481.84"
      ]
     },
     "execution_count": 16,
     "metadata": {},
     "output_type": "execute_result"
    }
   ],
   "source": [
    "Year = data['date'].apply(lambda x : x.split(' ')[0])\n",
    "data.insert(1,\"Year\",Year)\n",
    "data.drop(['date'],axis=1,inplace=True)\n",
    "data.head()"
   ]
  },
  {
   "cell_type": "code",
   "execution_count": null,
   "id": "411cb592",
   "metadata": {},
   "outputs": [],
   "source": []
  }
 ],
 "metadata": {
  "kernelspec": {
   "display_name": "Python 3 (ipykernel)",
   "language": "python",
   "name": "python3"
  },
  "language_info": {
   "codemirror_mode": {
    "name": "ipython",
    "version": 3
   },
   "file_extension": ".py",
   "mimetype": "text/x-python",
   "name": "python",
   "nbconvert_exporter": "python",
   "pygments_lexer": "ipython3",
   "version": "3.10.6"
  }
 },
 "nbformat": 4,
 "nbformat_minor": 5
}
